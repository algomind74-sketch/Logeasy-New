{
 "cells": [
  {
   "cell_type": "code",
   "execution_count": null,
   "id": "692bf97b",
   "metadata": {
    "vscode": {
     "languageId": "plaintext"
    }
   },
   "outputs": [],
   "source": [
    "# anomaly_detection.ipynb\n",
    "import pandas as pd\n",
    "from sklearn.feature_extraction.text import TfidfVectorizer\n",
    "from sklearn.ensemble import IsolationForest\n",
    "import os\n",
    "\n",
    "DATA_PATH = \"../../data/sample_logs/\"\n",
    "\n",
    "logs = []\n",
    "for file in os.listdir(DATA_PATH):\n",
    "    if file.endswith(\".log\"):\n",
    "        with open(os.path.join(DATA_PATH, file)) as f:\n",
    "            logs += f.readlines()\n",
    "\n",
    "df = pd.DataFrame(logs, columns=[\"message\"])\n",
    "\n",
    "# Vectorize text\n",
    "vectorizer = TfidfVectorizer(max_features=500)\n",
    "X = vectorizer.fit_transform(df['message'])\n",
    "\n",
    "# Train Isolation Forest\n",
    "model = IsolationForest(contamination=0.05, random_state=42)\n",
    "model.fit(X.toarray())\n",
    "\n",
    "df['anomaly'] = model.predict(X.toarray())\n",
    "df['anomaly'] = df['anomaly'].map({1: 'Normal', -1: 'Anomaly'})\n",
    "\n",
    "print(df.head(20))\n",
    "print(\"Anomalies detected:\", len(df[df['anomaly']=='Anomaly']))\n"
   ]
  }
 ],
 "metadata": {
  "language_info": {
   "name": "python"
  }
 },
 "nbformat": 4,
 "nbformat_minor": 5
}
