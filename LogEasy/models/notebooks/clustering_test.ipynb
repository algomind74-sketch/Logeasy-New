{
 "cells": [
  {
   "cell_type": "code",
   "execution_count": null,
   "id": "9c348b69",
   "metadata": {
    "vscode": {
     "languageId": "plaintext"
    }
   },
   "outputs": [],
   "source": [
    "# clustering_test.ipynb\n",
    "import pandas as pd\n",
    "from sklearn.feature_extraction.text import TfidfVectorizer\n",
    "from sklearn.cluster import DBSCAN\n",
    "import os\n",
    "\n",
    "DATA_PATH = \"../../data/sample_logs/\"\n",
    "\n",
    "logs = []\n",
    "for file in os.listdir(DATA_PATH):\n",
    "    if file.endswith(\".log\"):\n",
    "        with open(os.path.join(DATA_PATH, file)) as f:\n",
    "            logs += f.readlines()\n",
    "\n",
    "df = pd.DataFrame(logs, columns=[\"message\"])\n",
    "\n",
    "# Vectorize text\n",
    "vectorizer = TfidfVectorizer(max_features=500)\n",
    "X = vectorizer.fit_transform(df['message'])\n",
    "\n",
    "# DBSCAN clustering\n",
    "clustering = DBSCAN(eps=0.5, min_samples=2, metric='cosine').fit(X)\n",
    "df['cluster'] = clustering.labels_\n",
    "\n",
    "print(df.head(10))\n",
    "print(\"Unique clusters:\", df['cluster'].nunique())\n"
   ]
  }
 ],
 "metadata": {
  "language_info": {
   "name": "python"
  }
 },
 "nbformat": 4,
 "nbformat_minor": 5
}
