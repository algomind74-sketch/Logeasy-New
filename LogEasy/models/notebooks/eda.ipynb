{
 "cells": [
  {
   "cell_type": "code",
   "execution_count": null,
   "id": "a9b193d3",
   "metadata": {
    "vscode": {
     "languageId": "plaintext"
    }
   },
   "outputs": [],
   "source": [
    "# eda.ipynb\n",
    "import pandas as pd\n",
    "import matplotlib.pyplot as plt\n",
    "import seaborn as sns\n",
    "import os\n",
    "\n",
    "DATA_PATH = \"../../data/sample_logs/\"\n",
    "\n",
    "# Load all log files\n",
    "logs = []\n",
    "for file in os.listdir(DATA_PATH):\n",
    "    if file.endswith(\".log\"):\n",
    "        with open(os.path.join(DATA_PATH, file)) as f:\n",
    "            logs += f.readlines()\n",
    "\n",
    "df = pd.DataFrame(logs, columns=[\"message\"])\n",
    "\n",
    "# Basic stats\n",
    "print(\"Total logs:\", len(df))\n",
    "df['length'] = df['message'].apply(len)\n",
    "print(df.head())\n",
    "\n",
    "# Visualize message lengths\n",
    "plt.figure(figsize=(10,5))\n",
    "sns.histplot(df['length'], bins=30)\n",
    "plt.title(\"Distribution of log message lengths\")\n",
    "plt.show()\n"
   ]
  }
 ],
 "metadata": {
  "language_info": {
   "name": "python"
  }
 },
 "nbformat": 4,
 "nbformat_minor": 5
}
